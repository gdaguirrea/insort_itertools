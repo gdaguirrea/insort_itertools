{
 "cells": [
  {
   "cell_type": "code",
   "execution_count": 1,
   "metadata": {},
   "outputs": [
    {
     "name": "stdout",
     "output_type": "stream",
     "text": [
      "avg swaps:  3.0\n",
      "avg loops:  6.0\n",
      "avg steps:  25.0\n"
     ]
    }
   ],
   "source": [
    "import matplotlib.pyplot as plt\n",
    "from itertools import permutations\n",
    "import random\n",
    "import math \n",
    "\n",
    "class Counter:\n",
    "    def __init__(self):\n",
    "        self.swaps=0\n",
    "        self.loops=0\n",
    "        self.steps=0\n",
    "\n",
    "    def reset(self):\n",
    "        self.swaps=0\n",
    "        self.loops=0\n",
    "        self.steps=0\n",
    "\n",
    "    def swap(self):\n",
    "        self.swaps+=1\n",
    "        \n",
    "    def loop(self):\n",
    "        self.loops+=1\n",
    "        \n",
    "    def step(self):\n",
    "        self.steps+=1\n",
    "\n",
    "    def getsw(self):\n",
    "        return self.swaps\n",
    "    \n",
    "    def getlo(self):\n",
    "        return self.loops\n",
    "    \n",
    "    def getst(self):\n",
    "        return self.steps\n",
    "\n",
    "def insort(arr, c):\n",
    "    c.step() #initialize variable j\n",
    "    for j in range(1,len(arr)):\n",
    "        key = arr[j]; c.step()\n",
    "        i = j-1; c.step()\n",
    "        c.loop()\n",
    "        c.step()\n",
    "        while (i > -1) and key < arr[i]: \n",
    "            c.step()\n",
    "            arr[i+1]=arr[i]; c.step()\n",
    "            c.swap()\n",
    "            i=i-1; c.step()\n",
    "            c.loop()\n",
    "        arr[i+1] = key; c.step()\n",
    "        c.step() #increase variable j\n",
    "    return\n",
    "\n",
    "n=4 #THIS GETS CHANGED\n",
    "s=random.sample(range(100),n)\n",
    "s=list(s)\n",
    "x=list(permutations(s,n))\n",
    "swap=[]\n",
    "loop=[]\n",
    "step=[]\n",
    "fact=math.factorial(n)\n",
    "\n",
    "for i in range(0,fact):\n",
    "    t=list(x[i])\n",
    "    c=Counter()\n",
    "    insort(t,c)\n",
    "    swap.append(c.getsw())\n",
    "    loop.append(c.getlo())\n",
    "    step.append(c.getst())\n",
    "\n",
    "avgsw=0\n",
    "avglo=0\n",
    "avgst=0\n",
    "totsw=0\n",
    "totlo=0\n",
    "totst=0\n",
    "for h in range(0,fact):\n",
    "    totsw+=swap[h]\n",
    "    totlo+=loop[h]\n",
    "    totst+=step[h]\n",
    "\n",
    "avgsw=totsw/fact\n",
    "avglo=totlo/fact\n",
    "avgst=totst/fact\n",
    "\n",
    "print(\"avg swaps: \",avgsw)\n",
    "print(\"avg loops: \",avglo)\n",
    "print(\"avg steps: \",avgst)"
   ]
  },
  {
   "cell_type": "code",
   "execution_count": 2,
   "metadata": {},
   "outputs": [
    {
     "data": {
      "image/png": "[encoded data removed]",
      "text/plain": [
       "<Figure size 432x288 with 1 Axes>"
      ]
     },
     "metadata": {
      "needs_background": "light"
     },
     "output_type": "display_data"
    }
   ],
   "source": [
    "plt.hist(swap,fact,(min(swap),max(swap)))\n",
    "plt.xlabel('Amount of Swaps')\n",
    "plt.ylabel('Frequency')\n",
    "plt.title('Frequency of amount of swaps'.format(fact));"
   ]
  },
  {
   "cell_type": "code",
   "execution_count": 3,
   "metadata": {},
   "outputs": [
    {
     "data": {
      "image/png": "[encoded data removed]",
      "text/plain": [
       "<Figure size 432x288 with 1 Axes>"
      ]
     },
     "metadata": {
      "needs_background": "light"
     },
     "output_type": "display_data"
    }
   ],
   "source": [
    "plt.hist(loop,fact,(min(loop),max(loop)))\n",
    "plt.xlabel('Amount of Loops')\n",
    "plt.ylabel('Frequency')\n",
    "plt.title('Frequency of amount of loops'.format(fact));"
   ]
  },
  {
   "cell_type": "code",
   "execution_count": 4,
   "metadata": {},
   "outputs": [
    {
     "data": {
      "image/png": "[encoded data removed]",
      "text/plain": [
       "<Figure size 432x288 with 1 Axes>"
      ]
     },
     "metadata": {
      "needs_background": "light"
     },
     "output_type": "display_data"
    }
   ],
   "source": [
    "plt.hist(step,fact,(min(step),max(step)))\n",
    "plt.xlabel('Amount of Steps')\n",
    "plt.ylabel('Frequency')\n",
    "plt.title('Frequency of amount of steps'.format(fact));"
   ]
  },
  {
   "cell_type": "code",
   "execution_count": null,
   "metadata": {},
   "outputs": [],
   "source": []
  }
 ],
 "metadata": {
  "kernelspec": {
   "display_name": "Python 3",
   "language": "python",
   "name": "python3"
  },
  "language_info": {
   "codemirror_mode": {
    "name": "ipython",
    "version": 3
   },
   "file_extension": ".py",
   "mimetype": "text/x-python",
   "name": "python",
   "nbconvert_exporter": "python",
   "pygments_lexer": "ipython3",
   "version": "3.6.6"
  }
 },
 "nbformat": 4,
 "nbformat_minor": 2
}
